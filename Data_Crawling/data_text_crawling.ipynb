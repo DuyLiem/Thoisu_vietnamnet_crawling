{
 "cells": [
  {
   "cell_type": "markdown",
   "id": "1e7a8ba5",
   "metadata": {},
   "source": [
    "# WEB CRAWLING"
   ]
  },
  {
   "cell_type": "markdown",
   "id": "6bf30319",
   "metadata": {},
   "source": [
    "## Step 1: Create browser"
   ]
  },
  {
   "cell_type": "code",
   "execution_count": 1,
   "id": "a87e0967",
   "metadata": {},
   "outputs": [],
   "source": [
    "import os\n",
    "import requests\n",
    "import time\n",
    "\n",
    "from tqdm import tqdm\n",
    "from selenium import webdriver \n",
    "from webdriver_manager.chrome import ChromeDriverManager\n",
    "from selenium.webdriver.common.by import By\n",
    "from selenium.webdriver.support.ui import WebDriverWait\n",
    "from selenium.webdriver.support import expected_conditions as EC \n",
    "from selenium.webdriver.chrome.service import Service\n",
    "from selenium.webdriver.chrome.options import Options"
   ]
  },
  {
   "cell_type": "code",
   "execution_count": 2,
   "id": "1ffbd9bc",
   "metadata": {},
   "outputs": [],
   "source": [
    "chrome_option = Options()\n",
    "chrome_option.add_argument('--headless=new')\n",
    "chrome_option.add_argument('--no-sandbox')\n",
    "chrome_option.add_argument('--disable-dev-shm-usage')\n",
    "\n",
    "service = Service(ChromeDriverManager().install())\n",
    "driver = webdriver.Chrome(service=service, options=chrome_option)"
   ]
  },
  {
   "cell_type": "markdown",
   "id": "d6369645",
   "metadata": {},
   "source": [
    "## Step 2: Create empty folder"
   ]
  },
  {
   "cell_type": "code",
   "execution_count": 3,
   "id": "d72e901a",
   "metadata": {},
   "outputs": [],
   "source": [
    "root_dir = 'vn_news_corpus'\n",
    "os.makedirs(root_dir, exist_ok=True)\n",
    "\n",
    "n_pages = 2 # So trang chua danh sach bai bao muon truy cap\n",
    "article_id = 0 # Ma de luu cac bai bao"
   ]
  },
  {
   "cell_type": "markdown",
   "id": "de392455",
   "metadata": {},
   "source": [
    "## Step 3: Get list of articles + Step4: Access to article contents"
   ]
  },
  {
   "cell_type": "code",
   "execution_count": 4,
   "id": "afebb2b7",
   "metadata": {},
   "outputs": [
    {
     "name": "stdout",
     "output_type": "stream",
     "text": [
      "vn_news_corpus\\article_00000.txt\n",
      "vn_news_corpus\\article_00001.txt\n",
      "vn_news_corpus\\article_00002.txt\n",
      "vn_news_corpus\\article_00003.txt\n",
      "vn_news_corpus\\article_00004.txt\n",
      "vn_news_corpus\\article_00005.txt\n",
      "vn_news_corpus\\article_00006.txt\n",
      "vn_news_corpus\\article_00007.txt\n",
      "vn_news_corpus\\article_00008.txt\n",
      "vn_news_corpus\\article_00009.txt\n",
      "vn_news_corpus\\article_00010.txt\n",
      "vn_news_corpus\\article_00011.txt\n",
      "vn_news_corpus\\article_00012.txt\n",
      "vn_news_corpus\\article_00013.txt\n",
      "vn_news_corpus\\article_00014.txt\n",
      "vn_news_corpus\\article_00015.txt\n",
      "vn_news_corpus\\article_00016.txt\n",
      "vn_news_corpus\\article_00017.txt\n",
      "vn_news_corpus\\article_00018.txt\n",
      "vn_news_corpus\\article_00019.txt\n",
      "vn_news_corpus\\article_00020.txt\n",
      "vn_news_corpus\\article_00021.txt\n",
      "vn_news_corpus\\article_00022.txt\n",
      "vn_news_corpus\\article_00023.txt\n",
      "vn_news_corpus\\article_00024.txt\n",
      "vn_news_corpus\\article_00025.txt\n",
      "vn_news_corpus\\article_00026.txt\n",
      "vn_news_corpus\\article_00027.txt\n",
      "vn_news_corpus\\article_00028.txt\n",
      "vn_news_corpus\\article_00029.txt\n"
     ]
    }
   ],
   "source": [
    "for page_idx in range(n_pages):\n",
    "    # Truy cap vao tung trang \n",
    "    main_url = f'https://vietnamnet.vn/thoi-su-page{page_idx}'\n",
    "    # Gui yeu cau truy cap vao trang thứ i\n",
    "    driver.get(main_url)\n",
    "\n",
    "    # Tao duong dan de truy cap vao danh sach 15 bai bao cua i trang\n",
    "    news_lst_xpath = '//div[@class =\"topStory-15nd\"]/div/div[1]/a' \n",
    "\n",
    "    # Tao list de luu toan bo duong dan den tag:'a' cua trang thu i\n",
    "    news_tags = driver.find_elements(By.XPATH, news_lst_xpath)\n",
    "\n",
    "    #Tao list de luu toan bo URL cua moi bai bao cua trang thu i\n",
    "    news_page_urls= [new_tag.get_attribute('href') for new_tag in news_tags]\n",
    "\n",
    "\n",
    "    ## Step 4: Access to article contents\n",
    "    \n",
    "    for news_page_url in news_page_urls:\n",
    "        # Truy cap vao bai bao cu the\n",
    "        driver.get(news_page_url)\n",
    "        time.sleep(1)\n",
    "\n",
    "    # Tao duong dan den main content tag\n",
    "        main_content_xpath ='//div[@class=\"content-detail content-detail-type-1 content-mobile-change\"]'\n",
    "        try:\n",
    "            main_content_tag = driver.find_element(By.XPATH, main_content_xpath)\n",
    "        except:\n",
    "            continue\n",
    "        video_content_xpath = '//div[@class=\"video-detail\"]'\n",
    "        try:\n",
    "            video_content_tag = driver.find_element(By.XPATH, video_content_xpath)\n",
    "            continue\n",
    "        except:\n",
    "            pass\n",
    "        # Lay chu de cua tung bai bao\n",
    "        title = main_content_tag.find_element(By.XPATH, './/h1').text.strip()\n",
    "        \n",
    "        # Lay ban tom tat cua tung bai bao\n",
    "        abstract = main_content_tag.find_element(By.XPATH, './/h2').text.strip()\n",
    "        \n",
    "        # Lay ten tac gia cua bai bao\n",
    "        try:\n",
    "            author_xpath = '//span[@class=\"name\"]'\n",
    "            author =main_content_tag.find_element(By.XPATH, author_xpath).text.strip()\n",
    "        except:\n",
    "            author = ''\n",
    "\n",
    "        # Lay doan van \n",
    "        pragraphs_xpath = '//div[@class=\"maincontent main-content\"]/p'\n",
    "        pragraphs_tags = main_content_tag.find_elements(By.XPATH, pragraphs_xpath)\n",
    "\n",
    "        pragraphs_lst = [pragraphs_tag.text.strip() for pragraphs_tag in pragraphs_tags]\n",
    "\n",
    "        pragraphs = ' '.join(pragraphs_lst)\n",
    "        \n",
    "\n",
    "        final_content_lst = [title, abstract, pragraphs, author]\n",
    "        final_content = '\\n\\n'.join(final_content_lst)\n",
    "\n",
    "        # Luu toan bo thong tin bai bao vao file goc\n",
    "        article_filename = f'article_{article_id:05d}.txt'\n",
    "        article_savepath = os.path.join(root_dir, article_filename)\n",
    "        print(article_savepath)\n",
    "\n",
    "        #Tang ma len khi tao xong 1 file text\n",
    "        article_id += 1\n",
    "\n",
    "        # Mo file va ghi noi dung bai bao vao file txt\n",
    "        with open(article_savepath,'w',encoding='utf8') as fp :\n",
    "            fp.write(final_content)\n",
    "\n",
    "        driver.back()     "
   ]
  },
  {
   "cell_type": "markdown",
   "id": "13796c0c",
   "metadata": {},
   "source": [
    "## Nen file da thu duoc thong tin vao"
   ]
  },
  {
   "cell_type": "code",
   "execution_count": 5,
   "id": "f8a5f569",
   "metadata": {},
   "outputs": [
    {
     "data": {
      "text/plain": [
       "'d:\\\\CODEPYTHON\\\\Course_AI\\\\MODULE1\\\\Data_manupulation\\\\Data_Crawling\\\\vn_news_corpus.zip'"
      ]
     },
     "execution_count": 5,
     "metadata": {},
     "output_type": "execute_result"
    }
   ],
   "source": [
    "import shutil\n",
    "shutil.make_archive(\"vn_news_corpus\", \"zip\", \"vn_news_corpus\")"
   ]
  }
 ],
 "metadata": {
  "kernelspec": {
   "display_name": "Python 3",
   "language": "python",
   "name": "python3"
  },
  "language_info": {
   "codemirror_mode": {
    "name": "ipython",
    "version": 3
   },
   "file_extension": ".py",
   "mimetype": "text/x-python",
   "name": "python",
   "nbconvert_exporter": "python",
   "pygments_lexer": "ipython3",
   "version": "3.13.5"
  }
 },
 "nbformat": 4,
 "nbformat_minor": 5
}
