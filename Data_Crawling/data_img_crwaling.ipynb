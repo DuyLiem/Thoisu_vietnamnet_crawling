{
 "cells": [
  {
   "cell_type": "markdown",
   "id": "bd2200c1",
   "metadata": {},
   "source": [
    "# IMAGE_CRAWLING"
   ]
  },
  {
   "cell_type": "code",
   "execution_count": 44,
   "id": "e4364f7f",
   "metadata": {},
   "outputs": [],
   "source": [
    "import os\n",
    "import requests\n",
    "import time\n",
    "\n",
    "from PIL import Image\n",
    "from io import BytesIO\n",
    "\n",
    "from tqdm import tqdm\n",
    "\n",
    "from selenium import webdriver\n",
    "from selenium.webdriver.common.by import By\n",
    "from selenium.webdriver.support.ui import WebDriverWait\n",
    "from selenium.webdriver.support import expected_conditions as EC \n",
    "\n",
    "from selenium.webdriver.chrome.service import Service\n",
    "from selenium.webdriver.chrome.options import Options\n",
    "\n",
    "from webdriver_manager.chrome import ChromeDriverManager"
   ]
  },
  {
   "cell_type": "code",
   "execution_count": 45,
   "id": "a1c296d1",
   "metadata": {},
   "outputs": [],
   "source": [
    "chrome_options = Options()\n",
    "chrome_options.add_argument('--headless=new')\n",
    "chrome_options.add_argument('--nosandbox')\n",
    "chrome_options.add_argument('--disable-dev-shm-usage')\n",
    "\n",
    "service = Service(ChromeDriverManager().install())\n",
    "driver = webdriver.Chrome(service=service, options=chrome_options)\n"
   ]
  },
  {
   "cell_type": "code",
   "execution_count": 46,
   "id": "4fb5f950",
   "metadata": {},
   "outputs": [],
   "source": [
    "root_dir = 'vn_news_thumbnail'\n",
    "os.makedirs(root_dir, exist_ok=True)\n",
    "\n",
    "n_pages = 2\n",
    "img_id = 1"
   ]
  },
  {
   "cell_type": "code",
   "execution_count": 47,
   "id": "97eb3ce9",
   "metadata": {},
   "outputs": [],
   "source": [
    "for page_idx in range(n_pages):\n",
    "    main_url = f'https://vietnamnet.vn/thoi-su-page{page_idx}'\n",
    "    driver.get(main_url)\n",
    "\n",
    "    imgs_lst_xpath = '//div[@class=\"topStory-15nd\"]/div/div[1]/a/picture/img'\n",
    "    imgs_tags = driver.find_elements(By.XPATH,imgs_lst_xpath)\n",
    "\n",
    "\n",
    "    img_urls = [imgs_tag.get_attribute('data-srcset') for imgs_tag in imgs_tags]\n",
    "\n",
    "\n",
    "    for img_url in img_urls: \n",
    "\n",
    "        img_url_resp = requests.get(img_url)\n",
    "\n",
    "        try:\n",
    "            img = Image.open(BytesIO(img_url_resp.content))\n",
    "        except:\n",
    "            continue\n",
    "        if img.mode == 'P':\n",
    "            img = img.convert('RGB')\n",
    "\n",
    "        img_name =f'IMG_{img_id}.png'\n",
    "        img_save_path = os.path.join(root_dir, img_name)\n",
    "\n",
    "        img.save(img_save_path)\n",
    "        img_id += 1\n"
   ]
  }
 ],
 "metadata": {
  "kernelspec": {
   "display_name": "Python 3",
   "language": "python",
   "name": "python3"
  },
  "language_info": {
   "codemirror_mode": {
    "name": "ipython",
    "version": 3
   },
   "file_extension": ".py",
   "mimetype": "text/x-python",
   "name": "python",
   "nbconvert_exporter": "python",
   "pygments_lexer": "ipython3",
   "version": "3.13.5"
  }
 },
 "nbformat": 4,
 "nbformat_minor": 5
}
