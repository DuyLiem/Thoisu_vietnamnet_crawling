{
 "cells": [
  {
   "cell_type": "markdown",
   "id": "c319e6e0",
   "metadata": {},
   "source": [
    "# Su dung thu vien pandas xu ly du lieu bang"
   ]
  },
  {
   "cell_type": "code",
   "execution_count": 2,
   "id": "92e40e92",
   "metadata": {},
   "outputs": [],
   "source": [
    "import pandas as pd"
   ]
  },
  {
   "cell_type": "code",
   "execution_count": 3,
   "id": "bcf3ce16",
   "metadata": {},
   "outputs": [],
   "source": [
    "advertising_dataset_filepath = \"advertising.csv\"\n",
    "advertising_df = pd.read_csv(advertising_dataset_filepath)"
   ]
  },
  {
   "cell_type": "code",
   "execution_count": 4,
   "id": "9149c045",
   "metadata": {},
   "outputs": [],
   "source": [
    "#Chuyen thanh toan bo du lieu vao list\n",
    "advertising_lst = advertising_df.values.tolist()"
   ]
  },
  {
   "cell_type": "code",
   "execution_count": 5,
   "id": "cb357ae4",
   "metadata": {},
   "outputs": [
    {
     "name": "stdout",
     "output_type": "stream",
     "text": [
      "[[230.1, 37.8, 69.2, 22.1], [44.5, 39.3, 45.1, 10.4], [17.2, 45.9, 69.3, 12.0], [151.5, 41.3, 58.5, 16.5], [180.8, 10.8, 58.4, 17.9], [8.7, 48.9, 75.0, 7.2], [57.5, 32.8, 23.5, 11.8], [120.2, 19.6, 11.6, 13.2], [8.6, 2.1, 1.0, 4.8], [199.8, 2.6, 21.2, 15.6], [66.1, 5.8, 24.2, 12.6], [214.7, 24.0, 4.0, 17.4], [23.8, 35.1, 65.9, 9.2], [97.5, 7.6, 7.2, 13.7], [204.1, 32.9, 46.0, 19.0], [195.4, 47.7, 52.9, 22.4], [67.8, 36.6, 114.0, 12.5], [281.4, 39.6, 55.8, 24.4], [69.2, 20.5, 18.3, 11.3], [147.3, 23.9, 19.1, 14.6], [218.4, 27.7, 53.4, 18.0], [237.4, 5.1, 23.5, 17.5], [13.2, 15.9, 49.6, 5.6], [228.3, 16.9, 26.2, 20.5], [62.3, 12.6, 18.3, 9.7], [262.9, 3.5, 19.5, 17.0], [142.9, 29.3, 12.6, 15.0], [240.1, 16.7, 22.9, 20.9], [248.8, 27.1, 22.9, 18.9], [70.6, 16.0, 40.8, 10.5], [292.9, 28.3, 43.2, 21.4], [112.9, 17.4, 38.6, 11.9], [97.2, 1.5, 30.0, 13.2], [265.6, 20.0, 0.3, 17.4], [95.7, 1.4, 7.4, 11.9], [290.7, 4.1, 8.5, 17.8], [266.9, 43.8, 5.0, 25.4], [74.7, 49.4, 45.7, 14.7], [43.1, 26.7, 35.1, 10.1], [228.0, 37.7, 32.0, 21.5], [202.5, 22.3, 31.6, 16.6], [177.0, 33.4, 38.7, 17.1], [293.6, 27.7, 1.8, 20.7], [206.9, 8.4, 26.4, 17.9], [25.1, 25.7, 43.3, 8.5], [175.1, 22.5, 31.5, 16.1], [89.7, 9.9, 35.7, 10.6], [239.9, 41.5, 18.5, 23.2], [227.2, 15.8, 49.9, 19.8], [66.9, 11.7, 36.8, 9.7], [199.8, 3.1, 34.6, 16.4], [100.4, 9.6, 3.6, 10.7], [216.4, 41.7, 39.6, 22.6], [182.6, 46.2, 58.7, 21.2], [262.7, 28.8, 15.9, 20.2], [198.9, 49.4, 60.0, 23.7], [7.3, 28.1, 41.4, 5.5], [136.2, 19.2, 16.6, 13.2], [210.8, 49.6, 37.7, 23.8], [210.7, 29.5, 9.3, 18.4], [53.5, 2.0, 21.4, 8.1], [261.3, 42.7, 54.7, 24.2], [239.3, 15.5, 27.3, 20.7], [102.7, 29.6, 8.4, 14.0], [131.1, 42.8, 28.9, 16.0], [69.0, 9.3, 0.9, 11.3], [31.5, 24.6, 2.2, 11.0], [139.3, 14.5, 10.2, 13.4], [237.4, 27.5, 11.0, 18.9], [216.8, 43.9, 27.2, 22.3], [199.1, 30.6, 38.7, 18.3], [109.8, 14.3, 31.7, 12.4], [26.8, 33.0, 19.3, 8.8], [129.4, 5.7, 31.3, 11.0], [213.4, 24.6, 13.1, 17.0], [16.9, 43.7, 89.4, 8.7], [27.5, 1.6, 20.7, 6.9], [120.5, 28.5, 14.2, 14.2], [5.4, 29.9, 9.4, 5.3], [116.0, 7.7, 23.1, 11.0], [76.4, 26.7, 22.3, 11.8], [239.8, 4.1, 36.9, 17.3], [75.3, 20.3, 32.5, 11.3], [68.4, 44.5, 35.6, 13.6], [213.5, 43.0, 33.8, 21.7], [193.2, 18.4, 65.7, 20.2], [76.3, 27.5, 16.0, 12.0], [110.7, 40.6, 63.2, 16.0], [88.3, 25.5, 73.4, 12.9], [109.8, 47.8, 51.4, 16.7], [134.3, 4.9, 9.3, 14.0], [28.6, 1.5, 33.0, 7.3], [217.7, 33.5, 59.0, 19.4], [250.9, 36.5, 72.3, 22.2], [107.4, 14.0, 10.9, 11.5], [163.3, 31.6, 52.9, 16.9], [197.6, 3.5, 5.9, 16.7], [184.9, 21.0, 22.0, 20.5], [289.7, 42.3, 51.2, 25.4], [135.2, 41.7, 45.9, 17.2], [222.4, 4.3, 49.8, 16.7], [296.4, 36.3, 100.9, 23.8], [280.2, 10.1, 21.4, 19.8], [187.9, 17.2, 17.9, 19.7], [238.2, 34.3, 5.3, 20.7], [137.9, 46.4, 59.0, 15.0], [25.0, 11.0, 29.7, 7.2], [90.4, 0.3, 23.2, 12.0], [13.1, 0.4, 25.6, 5.3], [255.4, 26.9, 5.5, 19.8], [225.8, 8.2, 56.5, 18.4], [241.7, 38.0, 23.2, 21.8], [175.7, 15.4, 2.4, 17.1], [209.6, 20.6, 10.7, 20.9], [78.2, 46.8, 34.5, 14.6], [75.1, 35.0, 52.7, 12.6], [139.2, 14.3, 25.6, 12.2], [76.4, 0.8, 14.8, 9.4], [125.7, 36.9, 79.2, 15.9], [19.4, 16.0, 22.3, 6.6], [141.3, 26.8, 46.2, 15.5], [18.8, 21.7, 50.4, 7.0], [224.0, 2.4, 15.6, 16.6], [123.1, 34.6, 12.4, 15.2], [229.5, 32.3, 74.2, 19.7], [87.2, 11.8, 25.9, 10.6], [7.8, 38.9, 50.6, 6.6], [80.2, 0.0, 9.2, 11.9], [220.3, 49.0, 3.2, 24.7], [59.6, 12.0, 43.1, 9.7], [0.7, 39.6, 8.7, 1.6], [265.2, 2.9, 43.0, 17.7], [8.4, 27.2, 2.1, 5.7], [219.8, 33.5, 45.1, 19.6], [36.9, 38.6, 65.6, 10.8], [48.3, 47.0, 8.5, 11.6], [25.6, 39.0, 9.3, 9.5], [273.7, 28.9, 59.7, 20.8], [43.0, 25.9, 20.5, 9.6], [184.9, 43.9, 1.7, 20.7], [73.4, 17.0, 12.9, 10.9], [193.7, 35.4, 75.6, 19.2], [220.5, 33.2, 37.9, 20.1], [104.6, 5.7, 34.4, 10.4], [96.2, 14.8, 38.9, 12.3], [140.3, 1.9, 9.0, 10.3], [240.1, 7.3, 8.7, 18.2], [243.2, 49.0, 44.3, 25.4], [38.0, 40.3, 11.9, 10.9], [44.7, 25.8, 20.6, 10.1], [280.7, 13.9, 37.0, 16.1], [121.0, 8.4, 48.7, 11.6], [197.6, 23.3, 14.2, 16.6], [171.3, 39.7, 37.7, 16.0], [187.8, 21.1, 9.5, 20.6], [4.1, 11.6, 5.7, 3.2], [93.9, 43.5, 50.5, 15.3], [149.8, 1.3, 24.3, 10.1], [11.7, 36.9, 45.2, 7.3], [131.7, 18.4, 34.6, 12.9], [172.5, 18.1, 30.7, 16.4], [85.7, 35.8, 49.3, 13.3], [188.4, 18.1, 25.6, 19.9], [163.5, 36.8, 7.4, 18.0], [117.2, 14.7, 5.4, 11.9], [234.5, 3.4, 84.8, 16.9], [17.9, 37.6, 21.6, 8.0], [206.8, 5.2, 19.4, 17.2], [215.4, 23.6, 57.6, 17.1], [284.3, 10.6, 6.4, 20.0], [50.0, 11.6, 18.4, 8.4], [164.5, 20.9, 47.4, 17.5], [19.6, 20.1, 17.0, 7.6], [168.4, 7.1, 12.8, 16.7], [222.4, 3.4, 13.1, 16.5], [276.9, 48.9, 41.8, 27.0], [248.4, 30.2, 20.3, 20.2], [170.2, 7.8, 35.2, 16.7], [276.7, 2.3, 23.7, 16.8], [165.6, 10.0, 17.6, 17.6], [156.6, 2.6, 8.3, 15.5], [218.5, 5.4, 27.4, 17.2], [56.2, 5.7, 29.7, 8.7], [287.6, 43.0, 71.8, 26.2], [253.8, 21.3, 30.0, 17.6], [205.0, 45.1, 19.6, 22.6], [139.5, 2.1, 26.6, 10.3], [191.1, 28.7, 18.2, 17.3], [286.0, 13.9, 3.7, 20.9], [18.7, 12.1, 23.4, 6.7], [39.5, 41.1, 5.8, 10.8], [75.5, 10.8, 6.0, 11.9], [17.2, 4.1, 31.6, 5.9], [166.8, 42.0, 3.6, 19.6], [149.7, 35.6, 6.0, 17.3], [38.2, 3.7, 13.8, 7.6], [94.2, 4.9, 8.1, 14.0], [177.0, 9.3, 6.4, 14.8], [283.6, 42.0, 66.2, 25.5], [232.1, 8.6, 8.7, 18.4]]\n"
     ]
    }
   ],
   "source": [
    "print(advertising_lst)"
   ]
  },
  {
   "cell_type": "code",
   "execution_count": 6,
   "id": "b968d272",
   "metadata": {},
   "outputs": [],
   "source": [
    "# Do du lieu trong file: khong co gia tri o mot so cot\n",
    "advertising_lst_clean = [lst for lst in advertising_lst if len(lst) == 4] \n",
    "\n",
    "lst_TV = [lst[0] for lst in advertising_lst_clean]\n",
    "lst_Radio = [lst[1] for lst in advertising_lst_clean]\n",
    "lst_Newpaper = [lst[2] for lst in advertising_lst_clean]\n",
    "lst_Sales = [lst[3] for lst in advertising_lst_clean]"
   ]
  },
  {
   "cell_type": "markdown",
   "id": "114963b7",
   "metadata": {},
   "source": [
    "## Find sum of columns"
   ]
  },
  {
   "cell_type": "code",
   "execution_count": 7,
   "id": "9ce5c9cc",
   "metadata": {},
   "outputs": [
    {
     "name": "stdout",
     "output_type": "stream",
     "text": [
      "TV Sum: 29408.5\n",
      "Radio Sum: 4652.8\n",
      "Newpaper Sum: 6110.8\n",
      "Sales Sum: 3026.1\n"
     ]
    }
   ],
   "source": [
    "#Find sum of columns\n",
    "sum_TV = sum(lst_TV)\n",
    "sum_Radio = sum(lst_Radio)\n",
    "sum_Newpaper = sum(lst_Newpaper)\n",
    "sum_Sales = sum(lst_Sales)\n",
    "\n",
    "print(f\"TV Sum: {sum_TV}\\nRadio Sum: {sum_Radio}\\nNewpaper Sum: {sum_Newpaper}\\nSales Sum: {sum_Sales}\")"
   ]
  },
  {
   "cell_type": "markdown",
   "id": "c07e2fe4",
   "metadata": {},
   "source": [
    "## Find sum of columns from row N to row M"
   ]
  },
  {
   "cell_type": "code",
   "execution_count": 8,
   "id": "3276b0e0",
   "metadata": {},
   "outputs": [
    {
     "name": "stdout",
     "output_type": "stream",
     "text": [
      "TV Sum: 854.9\n",
      "Radio Sum: 249.1\n",
      "Newpaper Sum: 387.8\n",
      "Sales Sum: 122.0\n"
     ]
    }
   ],
   "source": [
    "## Find sum of colomns from row N to row M\n",
    "start_idx = 1\n",
    "end_idx = 11\n",
    "sub_list = advertising_lst_clean[start_idx:end_idx]\n",
    "TV_sum = sum(lst[0] for lst in sub_list)\n",
    "Radio_sum = sum(lst[1] for lst in sub_list)\n",
    "Newpaper_sum = sum(lst[2] for lst in sub_list)\n",
    "Sales_sum = sum(lst[3] for lst in sub_list)\n",
    "\n",
    "print(f\"TV Sum: {TV_sum}\\nRadio Sum: {Radio_sum}\\nNewpaper Sum: {Newpaper_sum}\\nSales Sum: {Sales_sum}\")"
   ]
  },
  {
   "cell_type": "markdown",
   "id": "9a3df143",
   "metadata": {},
   "source": [
    "## Find min and max"
   ]
  },
  {
   "cell_type": "code",
   "execution_count": 9,
   "id": "ceb86004",
   "metadata": {},
   "outputs": [],
   "source": [
    "max_TV = max(lst_TV)\n",
    "min_TV = min(lst_TV)\n",
    "\n",
    "max_Radio = max(lst_Radio)\n",
    "min_Radio = min(lst_Radio)\n",
    "\n",
    "max_Newpaper = max(lst_Newpaper)\n",
    "min_Newpaper = min(lst_Newpaper)\n",
    "\n",
    "max_Sales = max(lst_Sales)\n",
    "min_Sales = min(lst_Sales)"
   ]
  },
  {
   "cell_type": "code",
   "execution_count": 10,
   "id": "d5f864e9",
   "metadata": {},
   "outputs": [
    {
     "name": "stdout",
     "output_type": "stream",
     "text": [
      "TV min: 0.7, max: 296.4\n",
      "Radio min: 0.0, max: 49.6\n",
      "Newpaper min: 0.3, max: 114.0\n",
      "Sales min: 1.6, max: 27.0\n"
     ]
    }
   ],
   "source": [
    "print(f\"TV min: {min_TV}, max: {max_TV}\")\n",
    "print(f\"Radio min: {min_Radio}, max: {max_Radio}\")\n",
    "print(f\"Newpaper min: {min_Newpaper}, max: {max_Newpaper}\")\n",
    "print(f\"Sales min: {min_Sales}, max: {max_Sales}\")"
   ]
  },
  {
   "cell_type": "markdown",
   "id": "5d0703e9",
   "metadata": {},
   "source": [
    "## Find averae"
   ]
  },
  {
   "cell_type": "markdown",
   "id": "89fd8029",
   "metadata": {},
   "source": [
    "## Find median"
   ]
  },
  {
   "cell_type": "code",
   "execution_count": 11,
   "id": "78ac2a38",
   "metadata": {},
   "outputs": [],
   "source": [
    "def median(lst):\n",
    "    len_lst = len(lst)\n",
    "    Median = None\n",
    "    if len_lst % 2 != 0:\n",
    "        Median = lst[len_lst // 2]\n",
    "    else:\n",
    "        Median = (lst[len_lst // 2] + lst[len_lst // 2 -1]) // 2\n",
    "    return Median"
   ]
  },
  {
   "cell_type": "code",
   "execution_count": 12,
   "id": "0eaead93",
   "metadata": {},
   "outputs": [
    {
     "name": "stdout",
     "output_type": "stream",
     "text": [
      "TV_median: 149.0\n",
      "Radio_median: 25.0\n",
      "Newpaper_median: 22.0\n",
      "Sales_median: 16.0\n"
     ]
    }
   ],
   "source": [
    "lst_TV.sort()\n",
    "lst_Newpaper.sort()\n",
    "lst_Radio.sort()\n",
    "lst_Sales.sort()\n",
    "\n",
    "median_TV = median(lst_TV)\n",
    "median_Radio = median(lst_Newpaper)\n",
    "median_Newpaper = median(lst_Radio)\n",
    "median_Sales = median(lst_Sales)\n",
    "\n",
    "print(f\"TV_median: {median_TV}\")\n",
    "print(f\"Radio_median: {median_Radio}\")\n",
    "print(f\"Newpaper_median: {median_Newpaper}\")\n",
    "print(f\"Sales_median: {median_Sales}\")"
   ]
  },
  {
   "cell_type": "markdown",
   "id": "af084bcc",
   "metadata": {},
   "source": [
    "## Find contribution percetage"
   ]
  },
  {
   "cell_type": "code",
   "execution_count": 14,
   "id": "d27277c1",
   "metadata": {},
   "outputs": [
    {
     "name": "stdout",
     "output_type": "stream",
     "text": [
      "TV precentage: 73.206 %\n",
      "Radio precentage: 11.582 %\n",
      "Newpaper precentage: 15.212 %\n"
     ]
    }
   ],
   "source": [
    "total_budeget = sum_TV + sum_Radio + sum_Newpaper\n",
    "TV_precentage = sum_TV / total_budeget * 100\n",
    "Radio_precentage = sum_Radio / total_budeget * 100\n",
    "Newpaper_precentage = sum_Newpaper / total_budeget * 100\n",
    "\n",
    "print(f\"TV precentage: {TV_precentage:.3f} %\")\n",
    "print(f\"Radio precentage: {Radio_precentage:.3f} %\")\n",
    "print(f\"Newpaper precentage: {Newpaper_precentage:.3f} %\")\n",
    "\n"
   ]
  }
 ],
 "metadata": {
  "kernelspec": {
   "display_name": "base",
   "language": "python",
   "name": "python3"
  },
  "language_info": {
   "codemirror_mode": {
    "name": "ipython",
    "version": 3
   },
   "file_extension": ".py",
   "mimetype": "text/x-python",
   "name": "python",
   "nbconvert_exporter": "python",
   "pygments_lexer": "ipython3",
   "version": "3.13.5"
  }
 },
 "nbformat": 4,
 "nbformat_minor": 5
}
