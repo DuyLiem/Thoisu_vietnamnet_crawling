{
 "cells": [
  {
   "cell_type": "markdown",
   "id": "1108fcaa",
   "metadata": {},
   "source": [
    "# Index-based Encoding: Ma hoa du lieu "
   ]
  },
  {
   "cell_type": "markdown",
   "id": "7671abb1",
   "metadata": {},
   "source": [
    "## Step1: Text Normalization: Chuan hoa van ban"
   ]
  },
  {
   "cell_type": "code",
   "execution_count": 82,
   "id": "e21ee024",
   "metadata": {},
   "outputs": [],
   "source": [
    "import string"
   ]
  },
  {
   "cell_type": "code",
   "execution_count": 83,
   "id": "9b51f9c7",
   "metadata": {},
   "outputs": [
    {
     "data": {
      "text/plain": [
       "'!\"#$%&\\'()*+,-./:;<=>?@[\\\\]^_`{|}~'"
      ]
     },
     "execution_count": 83,
     "metadata": {},
     "output_type": "execute_result"
    }
   ],
   "source": [
    "string.punctuation"
   ]
  },
  {
   "cell_type": "code",
   "execution_count": null,
   "id": "1f70a69c",
   "metadata": {},
   "outputs": [],
   "source": [
    "## Chuẩn hóa 1 đoạn văn bản\n",
    "\n",
    "remove_characters = '\\t' + string.punctuation\n",
    "\n",
    "def text_normalize(text: string):\n",
    "    # chuyen chu hoa thanh chu thuong\n",
    "    text = text.lower()\n",
    "    # Xoa khoang trang o dau dong va cuoi dong\n",
    "    text = text.strip()\n",
    "    # Thay toan bo ki tu xuong dong thanh khoang trang\n",
    "    text = text.replace('\\n', ' ')\n",
    "    # Bo toan bo ki tu: '!\"#$%&\\'()*+,-./:;<=>?@[\\\\]^_`{|}~' \n",
    "    for character in remove_characters:\n",
    "        text = text.replace(character, '')\n",
    "\n",
    "    return text"
   ]
  },
  {
   "cell_type": "markdown",
   "id": "8c23751f",
   "metadata": {},
   "source": [
    "## Step2: Create Dictionary: Tao mot tu dien tu vung"
   ]
  },
  {
   "cell_type": "code",
   "execution_count": 85,
   "id": "197ab4de",
   "metadata": {},
   "outputs": [],
   "source": [
    "def create_dictionary(corpus):\n",
    "    # Tao 1 list lua tru nhung phan tu cua tung doan van\n",
    "    dictionary = []\n",
    "    for paragraph in corpus:\n",
    "        # Chuyen len buoc 1 de chuan hoa tung doan van\n",
    "        paragraph = text_normalize(paragraph)\n",
    "        # Cat doan van thanh tung chu \n",
    "        tokens = paragraph.split()\n",
    "        for token in tokens:\n",
    "            # Them toan bo chu khong giong nhau vao trong dictionary\n",
    "            if token not in dictionary:\n",
    "                dictionary.append(token)\n",
    "    return dictionary\n"
   ]
  },
  {
   "cell_type": "markdown",
   "id": "d12c6200",
   "metadata": {},
   "source": [
    "## Step3: Create New Text Representation:Tạo đại diện văn bản mới"
   ]
  },
  {
   "cell_type": "code",
   "execution_count": null,
   "id": "8eb4d41d",
   "metadata": {},
   "outputs": [],
   "source": [
    "def vetorize(text: string, dictionary: list, unknown_token_id: list):\n",
    "    text = text_normalize(text)\n",
    "    tokens = text.split()\n",
    "    vector = [dictionary.index(token) if token in dictionary else unknown_token_id for token in tokens]\n",
    "\n",
    "    return vector"
   ]
  },
  {
   "cell_type": "code",
   "execution_count": 87,
   "id": "7d37dcd0",
   "metadata": {},
   "outputs": [
    {
     "name": "stdout",
     "output_type": "stream",
     "text": [
      "[0, 1, 2, 3, 4, 5, 6, 7, 8, 9, 10, 11, 12, 13, 14, 15, 16, 17, 18, 19, 20, 21, 5, 6, 4, 3, 22, 23, 24, 25, 26, 27, 28, 29, 24, 25, 9, 10, 13, 30, 31, 32, 23, 24, 25, 13, 33, 32, 34, 35, 36, 37, 38, 39, 40, 14, 41, 42, 43, 44, 45, 46, 24, 25, 47, 32, 48, 33, 32, 49, 50, 51, 52, 53, 54, 55, 4, 56, 57, 58, 59, 60, 56, 61, 12, 62, 14, 63, 64, 65, 66, 31, 52, 53, 4, 56, 67, 68, 34, 69, 70, 4, 71, 72, 32, 73, 74, 75, 31, 76, 77, 78, 47, 79, 80, 5, 81, 82, 83, 66, 84, 4, 85, 86, 87, 88, 89, 90, 54, 32, 48, 33, 9, 10, 11, 12, 13, 91, 27, 3, 4, 5, 6, 92, 93, 4, 90, 54, 94, 89, 71, 95, 96, 48, 33, 70, 14, 97, 98, 99, 31, 80, 100, 13, 1, 101, 102, 103, 104, 5, 6, 105, 32, 106, 107, 108, 109, 110, 111, 112, 113, 87, 114, 115, 89, 112, 116, 12, 13, 117, 118, 119, 120, 121, 32, 122, 123, 124, 125, 126, 11, 12, 13, 127, 128, 129, 130, 11, 12, 13, 32, 124, 125, 131, 130, 132, 133, 134, 46, 135, 136, 94, 137, 138, 139, 140, 141, 23, 56, 115, 92, 93, 142, 143, 144, 145, 146, 23, 137, 147, 112, 148, 149, 150, 151, 152, 153, 154, 155, 156, 60, 157, 158]\n"
     ]
    }
   ],
   "source": [
    "unknown_token_id = [i for i in range(300,500,1)]\n",
    "\n",
    "with open(\"test.txt\",'r') as fp:\n",
    "    texts = fp.readlines()\n",
    "\n",
    "dictionary = create_dictionary(texts)\n",
    "\n",
    "with open(\"test.txt\",\"r\") as fp:\n",
    "    text_test = fp.read()\n",
    "    \n",
    "print(vetorize(text_test, dictionary, unknown_token_id))\n",
    "\n"
   ]
  }
 ],
 "metadata": {
  "kernelspec": {
   "display_name": "base",
   "language": "python",
   "name": "python3"
  },
  "language_info": {
   "codemirror_mode": {
    "name": "ipython",
    "version": 3
   },
   "file_extension": ".py",
   "mimetype": "text/x-python",
   "name": "python",
   "nbconvert_exporter": "python",
   "pygments_lexer": "ipython3",
   "version": "3.13.5"
  }
 },
 "nbformat": 4,
 "nbformat_minor": 5
}
